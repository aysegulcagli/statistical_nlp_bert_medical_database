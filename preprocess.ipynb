{
 "cells": [
  {
   "cell_type": "code",
   "execution_count": 2,
   "metadata": {},
   "outputs": [],
   "source": [
    "import pandas as pd\n",
    "import numpy as np\n",
    "import matplotlib.pyplot as plt\n",
    "import seaborn as sns\n",
    "import string\n",
    "import re\n",
    "from sklearn.feature_extraction.text import TfidfVectorizer\n",
    "from sklearn.decomposition import PCA\n",
    "from sklearn.linear_model import LogisticRegression\n",
    "from sklearn.model_selection import train_test_split\n",
    "\n",
    "from sklearn.metrics import confusion_matrix\n",
    "from sklearn.metrics import classification_report\n",
    "from sklearn.manifold import TSNE\n",
    "\n",
    "from nltk.tokenize import word_tokenize\n",
    "from nltk.tokenize import sent_tokenize\n",
    "from nltk.stem import WordNetLemmatizer \n",
    "\n",
    "from imblearn.over_sampling import SMOTE"
   ]
  },
  {
   "cell_type": "code",
   "execution_count": 3,
   "metadata": {},
   "outputs": [],
   "source": [
    "def get_sentence_word_count(text_list):\n",
    "    sent_count = 0\n",
    "    word_count = 0\n",
    "    vocab = {}\n",
    "    for text in text_list:\n",
    "        sentences=sent_tokenize(str(text).lower())\n",
    "        sent_count = sent_count + len(sentences)\n",
    "        for sentence in sentences:\n",
    "            words=word_tokenize(sentence)\n",
    "            for word in words:\n",
    "                if(word in vocab.keys()):\n",
    "                    vocab[word] = vocab[word] +1\n",
    "                else:\n",
    "                    vocab[word] =1 \n",
    "    word_count = len(vocab.keys())\n",
    "    return sent_count,word_count"
   ]
  },
  {
   "cell_type": "code",
   "execution_count": 4,
   "metadata": {},
   "outputs": [
    {
     "name": "stdout",
     "output_type": "stream",
     "text": [
      "Index(['Unnamed: 0', 'description', 'medical_specialty', 'sample_name',\n",
      "       'transcription', 'keywords'],\n",
      "      dtype='object')\n"
     ]
    },
    {
     "data": {
      "text/html": [
       "<div>\n",
       "<style scoped>\n",
       "    .dataframe tbody tr th:only-of-type {\n",
       "        vertical-align: middle;\n",
       "    }\n",
       "\n",
       "    .dataframe tbody tr th {\n",
       "        vertical-align: top;\n",
       "    }\n",
       "\n",
       "    .dataframe thead th {\n",
       "        text-align: right;\n",
       "    }\n",
       "</style>\n",
       "<table border=\"1\" class=\"dataframe\">\n",
       "  <thead>\n",
       "    <tr style=\"text-align: right;\">\n",
       "      <th></th>\n",
       "      <th>Unnamed: 0</th>\n",
       "      <th>description</th>\n",
       "      <th>medical_specialty</th>\n",
       "      <th>sample_name</th>\n",
       "      <th>transcription</th>\n",
       "      <th>keywords</th>\n",
       "    </tr>\n",
       "  </thead>\n",
       "  <tbody>\n",
       "    <tr>\n",
       "      <th>0</th>\n",
       "      <td>0</td>\n",
       "      <td>A 23-year-old white female presents with comp...</td>\n",
       "      <td>Allergy / Immunology</td>\n",
       "      <td>Allergic Rhinitis</td>\n",
       "      <td>SUBJECTIVE:,  This 23-year-old white female pr...</td>\n",
       "      <td>allergy / immunology, allergic rhinitis, aller...</td>\n",
       "    </tr>\n",
       "    <tr>\n",
       "      <th>1</th>\n",
       "      <td>1</td>\n",
       "      <td>Consult for laparoscopic gastric bypass.</td>\n",
       "      <td>Bariatrics</td>\n",
       "      <td>Laparoscopic Gastric Bypass Consult - 2</td>\n",
       "      <td>PAST MEDICAL HISTORY:, He has difficulty climb...</td>\n",
       "      <td>bariatrics, laparoscopic gastric bypass, weigh...</td>\n",
       "    </tr>\n",
       "    <tr>\n",
       "      <th>2</th>\n",
       "      <td>2</td>\n",
       "      <td>Consult for laparoscopic gastric bypass.</td>\n",
       "      <td>Bariatrics</td>\n",
       "      <td>Laparoscopic Gastric Bypass Consult - 1</td>\n",
       "      <td>HISTORY OF PRESENT ILLNESS: , I have seen ABC ...</td>\n",
       "      <td>bariatrics, laparoscopic gastric bypass, heart...</td>\n",
       "    </tr>\n",
       "    <tr>\n",
       "      <th>3</th>\n",
       "      <td>3</td>\n",
       "      <td>2-D M-Mode. Doppler.</td>\n",
       "      <td>Cardiovascular / Pulmonary</td>\n",
       "      <td>2-D Echocardiogram - 1</td>\n",
       "      <td>2-D M-MODE: , ,1.  Left atrial enlargement wit...</td>\n",
       "      <td>cardiovascular / pulmonary, 2-d m-mode, dopple...</td>\n",
       "    </tr>\n",
       "    <tr>\n",
       "      <th>4</th>\n",
       "      <td>4</td>\n",
       "      <td>2-D Echocardiogram</td>\n",
       "      <td>Cardiovascular / Pulmonary</td>\n",
       "      <td>2-D Echocardiogram - 2</td>\n",
       "      <td>1.  The left ventricular cavity size and wall ...</td>\n",
       "      <td>cardiovascular / pulmonary, 2-d, doppler, echo...</td>\n",
       "    </tr>\n",
       "  </tbody>\n",
       "</table>\n",
       "</div>"
      ],
      "text/plain": [
       "   Unnamed: 0                                        description  \\\n",
       "0           0   A 23-year-old white female presents with comp...   \n",
       "1           1           Consult for laparoscopic gastric bypass.   \n",
       "2           2           Consult for laparoscopic gastric bypass.   \n",
       "3           3                             2-D M-Mode. Doppler.     \n",
       "4           4                                 2-D Echocardiogram   \n",
       "\n",
       "             medical_specialty                                sample_name  \\\n",
       "0         Allergy / Immunology                         Allergic Rhinitis    \n",
       "1                   Bariatrics   Laparoscopic Gastric Bypass Consult - 2    \n",
       "2                   Bariatrics   Laparoscopic Gastric Bypass Consult - 1    \n",
       "3   Cardiovascular / Pulmonary                    2-D Echocardiogram - 1    \n",
       "4   Cardiovascular / Pulmonary                    2-D Echocardiogram - 2    \n",
       "\n",
       "                                       transcription  \\\n",
       "0  SUBJECTIVE:,  This 23-year-old white female pr...   \n",
       "1  PAST MEDICAL HISTORY:, He has difficulty climb...   \n",
       "2  HISTORY OF PRESENT ILLNESS: , I have seen ABC ...   \n",
       "3  2-D M-MODE: , ,1.  Left atrial enlargement wit...   \n",
       "4  1.  The left ventricular cavity size and wall ...   \n",
       "\n",
       "                                            keywords  \n",
       "0  allergy / immunology, allergic rhinitis, aller...  \n",
       "1  bariatrics, laparoscopic gastric bypass, weigh...  \n",
       "2  bariatrics, laparoscopic gastric bypass, heart...  \n",
       "3  cardiovascular / pulmonary, 2-d m-mode, dopple...  \n",
       "4  cardiovascular / pulmonary, 2-d, doppler, echo...  "
      ]
     },
     "execution_count": 4,
     "metadata": {},
     "output_type": "execute_result"
    }
   ],
   "source": [
    "import pandas as pd\n",
    "# CSV dosyasının yolunu belirtin\n",
    "csv_path = \"mtsamples.csv\"\n",
    "\n",
    "# Veri setini oku\n",
    "clinical_text_df = pd.read_csv(csv_path)\n",
    "\n",
    "# Sütun isimlerini yazdır\n",
    "print(clinical_text_df.columns)\n",
    "\n",
    "# İlk 5 satırı görüntüle\n",
    "clinical_text_df.head(5)\n"
   ]
  },
  {
   "cell_type": "code",
   "execution_count": 5,
   "metadata": {},
   "outputs": [
    {
     "name": "stderr",
     "output_type": "stream",
     "text": [
      "[nltk_data] Downloading package punkt to\n",
      "[nltk_data]     C:\\Users\\vakka\\AppData\\Roaming\\nltk_data...\n",
      "[nltk_data]   Package punkt is already up-to-date!\n"
     ]
    },
    {
     "data": {
      "text/plain": [
       "True"
      ]
     },
     "execution_count": 5,
     "metadata": {},
     "output_type": "execute_result"
    }
   ],
   "source": [
    "import nltk\n",
    "nltk.download('punkt')"
   ]
  },
  {
   "cell_type": "code",
   "execution_count": 6,
   "metadata": {},
   "outputs": [
    {
     "name": "stdout",
     "output_type": "stream",
     "text": [
      "Number of sentences in transcriptions column: 140235\n",
      "Number of unique words in transcriptions column: 35805\n",
      "===========Original Categories =======================\n",
      "Cat:1  Allergy / Immunology : 7\n",
      "Cat:2  Autopsy : 8\n",
      "Cat:3  Bariatrics : 18\n",
      "Cat:4  Cardiovascular / Pulmonary : 371\n",
      "Cat:5  Chiropractic : 14\n",
      "Cat:6  Consult - History and Phy. : 516\n",
      "Cat:7  Cosmetic / Plastic Surgery : 27\n",
      "Cat:8  Dentistry : 27\n",
      "Cat:9  Dermatology : 29\n",
      "Cat:10  Diets and Nutritions : 10\n",
      "Cat:11  Discharge Summary : 108\n",
      "Cat:12  ENT - Otolaryngology : 96\n",
      "Cat:13  Emergency Room Reports : 75\n",
      "Cat:14  Endocrinology : 19\n",
      "Cat:15  Gastroenterology : 224\n",
      "Cat:16  General Medicine : 259\n",
      "Cat:17  Hematology - Oncology : 90\n",
      "Cat:18  Hospice - Palliative Care : 6\n",
      "Cat:19  IME-QME-Work Comp etc. : 16\n",
      "Cat:20  Lab Medicine - Pathology : 8\n",
      "Cat:21  Letters : 23\n",
      "Cat:22  Nephrology : 81\n",
      "Cat:23  Neurology : 223\n",
      "Cat:24  Neurosurgery : 94\n",
      "Cat:25  Obstetrics / Gynecology : 155\n",
      "Cat:26  Office Notes : 50\n",
      "Cat:27  Ophthalmology : 83\n",
      "Cat:28  Orthopedic : 355\n",
      "Cat:29  Pain Management : 61\n",
      "Cat:30  Pediatrics - Neonatal : 70\n",
      "Cat:31  Physical Medicine - Rehab : 21\n",
      "Cat:32  Podiatry : 47\n",
      "Cat:33  Psychiatry / Psychology : 53\n",
      "Cat:34  Radiology : 273\n",
      "Cat:35  Rheumatology : 10\n",
      "Cat:36  SOAP / Chart / Progress Notes : 166\n",
      "Cat:37  Sleep Medicine : 20\n",
      "Cat:38  Speech - Language : 9\n",
      "Cat:39  Surgery : 1088\n",
      "Cat:40  Urology : 156\n",
      "==================================\n"
     ]
    }
   ],
   "source": [
    "clinical_text_df = clinical_text_df[clinical_text_df['transcription'].notna()]\n",
    "sent_count,word_count= get_sentence_word_count(clinical_text_df['transcription'].tolist())\n",
    "print(\"Number of sentences in transcriptions column: \"+ str(sent_count))\n",
    "print(\"Number of unique words in transcriptions column: \"+str(word_count))\n",
    "\n",
    "\n",
    "\n",
    "data_categories  = clinical_text_df.groupby(clinical_text_df['medical_specialty'])\n",
    "i = 1\n",
    "print('===========Original Categories =======================')\n",
    "for catName,dataCategory in data_categories:\n",
    "    print('Cat:'+str(i)+' '+catName + ' : '+ str(len(dataCategory)) )\n",
    "    i = i+1\n",
    "print('==================================')"
   ]
  },
  {
   "cell_type": "code",
   "execution_count": 7,
   "metadata": {},
   "outputs": [
    {
     "name": "stdout",
     "output_type": "stream",
     "text": [
      "============Reduced Categories ======================\n",
      "Cat:1  Cardiovascular / Pulmonary : 371\n",
      "Cat:2  Consult - History and Phy. : 516\n",
      "Cat:3  Discharge Summary : 108\n",
      "Cat:4  ENT - Otolaryngology : 96\n",
      "Cat:5  Emergency Room Reports : 75\n",
      "Cat:6  Gastroenterology : 224\n",
      "Cat:7  General Medicine : 259\n",
      "Cat:8  Hematology - Oncology : 90\n",
      "Cat:9  Nephrology : 81\n",
      "Cat:10  Neurology : 223\n",
      "Cat:11  Neurosurgery : 94\n",
      "Cat:12  Obstetrics / Gynecology : 155\n",
      "Cat:13  Ophthalmology : 83\n",
      "Cat:14  Orthopedic : 355\n",
      "Cat:15  Pain Management : 61\n",
      "Cat:16  Pediatrics - Neonatal : 70\n",
      "Cat:17  Psychiatry / Psychology : 53\n",
      "Cat:18  Radiology : 273\n",
      "Cat:19  SOAP / Chart / Progress Notes : 166\n",
      "Cat:20  Surgery : 1088\n",
      "Cat:21  Urology : 156\n",
      "============ Reduced Categories ======================\n"
     ]
    }
   ],
   "source": [
    "filtered_data_categories = data_categories.filter(lambda x:x.shape[0] > 50)\n",
    "final_data_categories = filtered_data_categories.groupby(filtered_data_categories['medical_specialty'])\n",
    "i=1\n",
    "print('============Reduced Categories ======================')\n",
    "for catName,dataCategory in final_data_categories:\n",
    "    print('Cat:'+str(i)+' '+catName + ' : '+ str(len(dataCategory)) )\n",
    "    i = i+1\n",
    "\n",
    "print('============ Reduced Categories ======================')"
   ]
  },
  {
   "cell_type": "code",
   "execution_count": 15,
   "metadata": {},
   "outputs": [],
   "source": [
    "\n",
    "# save data with reduced categories\n",
    "filtered_data_categories.to_csv('mtsamples_reduced.csv',index=False)"
   ]
  }
 ],
 "metadata": {
  "kernelspec": {
   "display_name": "Python 3",
   "language": "python",
   "name": "python3"
  },
  "language_info": {
   "codemirror_mode": {
    "name": "ipython",
    "version": 3
   },
   "file_extension": ".py",
   "mimetype": "text/x-python",
   "name": "python",
   "nbconvert_exporter": "python",
   "pygments_lexer": "ipython3",
   "version": "3.11.4"
  }
 },
 "nbformat": 4,
 "nbformat_minor": 2
}
